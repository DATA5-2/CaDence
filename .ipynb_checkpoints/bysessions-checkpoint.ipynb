{
 "cells": [
  {
   "cell_type": "code",
   "execution_count": null,
   "id": "22ac9e85-1989-48a9-b263-679ea162776f",
   "metadata": {},
   "outputs": [],
   "source": [
    "pip install pandas"
   ]
  },
  {
   "cell_type": "code",
   "execution_count": null,
   "id": "393f0ce1-bd9b-4f14-aaf6-f4a251bf05c0",
   "metadata": {},
   "outputs": [],
   "source": [
    "import pandas as pd\n",
    "import os"
   ]
  },
  {
   "cell_type": "code",
   "execution_count": null,
   "id": "77937de4-17ce-438f-9ca9-f0d22ecf40d7",
   "metadata": {},
   "outputs": [],
   "source": [
    "listen = pd.read_json('listen_events.json',lines=True)"
   ]
  },
  {
   "cell_type": "code",
   "execution_count": null,
   "id": "771abbad-e852-4250-9ef9-82aad6839b38",
   "metadata": {},
   "outputs": [],
   "source": [
    "sessions = listen.groupby('sessionId')"
   ]
  },
  {
   "cell_type": "code",
   "execution_count": null,
   "id": "6585f54c-f8ff-4100-aab7-2768ac5c6fe2",
   "metadata": {},
   "outputs": [],
   "source": [
    "os.makedirs('sessions', exist_ok=True)"
   ]
  },
  {
   "cell_type": "code",
   "execution_count": null,
   "id": "0f682957-6f21-4fb8-ae84-0531260592d3",
   "metadata": {},
   "outputs": [],
   "source": [
    "for session_id, session in sessions:\n",
    "    grouped_data = f\"sessions/session_{session_id}.json\"  # File path with subdirectory\n",
    "    session.to_json(grouped_data, orient='records', lines=True)\n",
    "    print(f\"Saved: {grouped_data}\")"
   ]
  }
 ],
 "metadata": {
  "kernelspec": {
   "display_name": "Python 3 (ipykernel)",
   "language": "python",
   "name": "python3"
  },
  "language_info": {
   "codemirror_mode": {
    "name": "ipython",
    "version": 3
   },
   "file_extension": ".py",
   "mimetype": "text/x-python",
   "name": "python",
   "nbconvert_exporter": "python",
   "pygments_lexer": "ipython3",
   "version": "3.12.5"
  }
 },
 "nbformat": 4,
 "nbformat_minor": 5
}
