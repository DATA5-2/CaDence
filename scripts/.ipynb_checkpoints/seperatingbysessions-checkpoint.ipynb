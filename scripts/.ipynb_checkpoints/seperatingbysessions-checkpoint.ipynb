{
 "cells": [
  {
   "cell_type": "code",
   "execution_count": 1,
   "id": "11007de2-9051-41a6-8ce5-64627d7fa735",
   "metadata": {},
   "outputs": [
    {
     "name": "stdout",
     "output_type": "stream",
     "text": [
      "Requirement already satisfied: pandas in /Users/uyakut/Library/jupyterlab-desktop/jlab_server/lib/python3.12/site-packages (2.2.2)\n",
      "Requirement already satisfied: numpy>=1.26.0 in /Users/uyakut/Library/jupyterlab-desktop/jlab_server/lib/python3.12/site-packages (from pandas) (2.1.0)\n",
      "Requirement already satisfied: python-dateutil>=2.8.2 in /Users/uyakut/Library/jupyterlab-desktop/jlab_server/lib/python3.12/site-packages (from pandas) (2.9.0)\n",
      "Requirement already satisfied: pytz>=2020.1 in /Users/uyakut/Library/jupyterlab-desktop/jlab_server/lib/python3.12/site-packages (from pandas) (2024.1)\n",
      "Requirement already satisfied: tzdata>=2022.7 in /Users/uyakut/Library/jupyterlab-desktop/jlab_server/lib/python3.12/site-packages (from pandas) (2024.1)\n",
      "Requirement already satisfied: six>=1.5 in /Users/uyakut/Library/jupyterlab-desktop/jlab_server/lib/python3.12/site-packages (from python-dateutil>=2.8.2->pandas) (1.16.0)\n",
      "Note: you may need to restart the kernel to use updated packages.\n"
     ]
    }
   ],
   "source": [
    "pip install pandas"
   ]
  },
  {
   "cell_type": "code",
   "execution_count": 2,
   "id": "71ed459c-f47e-4993-b401-d976a55c15de",
   "metadata": {},
   "outputs": [],
   "source": [
    "import pandas as pd\n",
    "import os"
   ]
  },
  {
   "cell_type": "code",
   "execution_count": 3,
   "id": "1cb60241-a880-4cf0-ad2e-a2076839c97e",
   "metadata": {},
   "outputs": [],
   "source": [
    "listen = pd.read_json('listen_events.json',lines=True)"
   ]
  },
  {
   "cell_type": "code",
   "execution_count": 16,
   "id": "6932e1e5-052b-45cf-9390-8a9d1010cb9c",
   "metadata": {},
   "outputs": [],
   "source": [
    "sessions = listen.groupby('sessionId')"
   ]
  },
  {
   "cell_type": "code",
   "execution_count": null,
   "id": "54e78c78-2898-4288-8310-b0b3857eb2ee",
   "metadata": {},
   "outputs": [],
   "source": [
    "os.makedirs('sessions', exist_ok=True)"
   ]
  },
  {
   "cell_type": "code",
   "execution_count": 17,
   "id": "15825dcd-ec87-4972-96c7-dcf515baf38e",
   "metadata": {},
   "outputs": [],
   "source": [
    "for session_id, session in sessions:\n",
    "    grouped_data = f\"sessions/session_{session_id}.json\"  \n",
    "    session.to_json(grouped_data, orient='records', lines=True)\n",
    "    print(f\"Saved: {grouped_data}\")"
   ]
  }
 ],
 "metadata": {
  "kernelspec": {
   "display_name": "Python 3 (ipykernel)",
   "language": "python",
   "name": "python3"
  },
  "language_info": {
   "codemirror_mode": {
    "name": "ipython",
    "version": 3
   },
   "file_extension": ".py",
   "mimetype": "text/x-python",
   "name": "python",
   "nbconvert_exporter": "python",
   "pygments_lexer": "ipython3",
   "version": "3.12.5"
  }
 },
 "nbformat": 4,
 "nbformat_minor": 5
}
